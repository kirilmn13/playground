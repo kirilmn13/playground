{
 "cells": [
  {
   "cell_type": "code",
   "execution_count": 22,
   "metadata": {},
   "outputs": [],
   "source": [
    "from google.cloud import vision\n",
    "from google.oauth2 import service_account\n",
    "from PIL import Image\n",
    "from io import BytesIO\n",
    "import json\n",
    "\n",
    "\n",
    "credentials = service_account.Credentials.from_service_account_file('D:\\[3]--Python Workdir--[3]\\config\\google_service_account.json')"
   ]
  },
  {
   "cell_type": "code",
   "execution_count": 10,
   "metadata": {},
   "outputs": [],
   "source": [
    "def get_textos(img):\n",
    "    \"\"\" Texto Con coordenadas\n",
    "    \"\"\"\n",
    "\n",
    "    textos_imagen = []\n",
    "    client = vision.ImageAnnotatorClient(credentials=credentials)\n",
    "    image = vision.Image(content=img)\n",
    "    response = client.text_detection(image=image)\n",
    "    if response.error.message:\n",
    "        raise Exception('{}\\nError en la llamada al OCR'.format(response.error.message))\n",
    "\n",
    "    texts_ocr = response.text_annotations\n",
    "    for text_ocr in texts_ocr:\n",
    "        texto = {\n",
    "            \"texto\": text_ocr.description.upper(),\n",
    "            \"vertices\": ([{'x': vertex.x, 'y': vertex.y} for vertex in text_ocr.bounding_poly.vertices])\n",
    "            }\n",
    "        textos_imagen.append(texto)\n",
    "\n",
    "    return textos_imagen #lista de diccionarios"
   ]
  },
  {
   "cell_type": "code",
   "execution_count": 48,
   "metadata": {},
   "outputs": [
    {
     "data": {
      "text/plain": [
       "[{'x': 75, 'y': 89},\n",
       " {'x': 681, 'y': 89},\n",
       " {'x': 681, 'y': 1132},\n",
       " {'x': 75, 'y': 1132}]"
      ]
     },
     "execution_count": 48,
     "metadata": {},
     "output_type": "execute_result"
    }
   ],
   "source": [
    "img_path = 'D:\\[3]--Python Workdir--[3]\\Data - ML- DL- projects\\img\\Texto_I_de_Gil_(1799).png'\n",
    "img = Image.open(img_path)\n",
    "\n",
    "buffer = BytesIO()\n",
    "img.save(buffer,format='PNG')\n",
    "\n",
    "texto_json = get_textos(buffer.getvalue())\n",
    "texto_json[0]['texto']      #texto primer eleemento\n",
    "texto_json[0]['vertices']   #vertrices primer elemento\n",
    " \n"
   ]
  },
  {
   "cell_type": "code",
   "execution_count": 53,
   "metadata": {},
   "outputs": [
    {
     "name": "stdout",
     "output_type": "stream",
     "text": [
      "{'texto': 'LA', 'vertices': [{'x': 382, 'y': 750}, {'x': 409, 'y': 750}, {'x': 409, 'y': 781}, {'x': 382, 'y': 781}]}\n"
     ]
    }
   ],
   "source": [
    "json_string = json.dumps(texto_json)   #Python list to json\n",
    "python_obj = json.loads(json_string)   #Converting JSON to Python Object (Dict)\n",
    "\n",
    "print(python_obj[60])\n",
    "\n",
    "data =  texto_json.copy()\n",
    "pre_txt = 'elemento_'\n",
    "text_dict = {}\n",
    "\n",
    "for i in range(len(data)):\n",
    "    text_dict[pre_txt+str(i)]= data[i]"
   ]
  },
  {
   "cell_type": "code",
   "execution_count": 44,
   "metadata": {},
   "outputs": [
    {
     "name": "stdout",
     "output_type": "stream",
     "text": [
      "{'texto': 'FRASE', 'vertices': [{'x': 432, 'y': 651}, {'x': 506, 'y': 650}, {'x': 507, 'y': 685}, {'x': 433, 'y': 686}]}\n"
     ]
    }
   ],
   "source": [
    "print(text_dict['elemento_50'])"
   ]
  }
 ],
 "metadata": {
  "interpreter": {
   "hash": "4b43cbae41051659c3d206982d53a881ded5f1069bd72b4f400143dedfeb6b59"
  },
  "kernelspec": {
   "display_name": "Python 3.7.8 64-bit",
   "language": "python",
   "name": "python3"
  },
  "language_info": {
   "codemirror_mode": {
    "name": "ipython",
    "version": 3
   },
   "file_extension": ".py",
   "mimetype": "text/x-python",
   "name": "python",
   "nbconvert_exporter": "python",
   "pygments_lexer": "ipython3",
   "version": "3.9.6"
  },
  "orig_nbformat": 4
 },
 "nbformat": 4,
 "nbformat_minor": 2
}
