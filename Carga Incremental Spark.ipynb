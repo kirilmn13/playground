{
 "cells": [
  {
   "cell_type": "code",
   "execution_count": 44,
   "source": [
    "from getpass import getpass\r\n",
    "from mysql.connector import connect, Error\r\n",
    "import psycopg2 as pg\r\n",
    "import pandas as pd\r\n",
    "import pandas.io.sql as psql\r\n"
   ],
   "outputs": [],
   "metadata": {}
  },
  {
   "cell_type": "code",
   "execution_count": 45,
   "source": [
    "#Conexion MYSQL ORIGEN DATOS\r\n",
    "try:\r\n",
    "    with connect(\r\n",
    "        host=\"104.199.45.255\",\r\n",
    "        user=\"only_select\",\r\n",
    "        password=\"92sIWKCMDNuwy2o\", \r\n",
    "        database=\"planetahuerto\",\r\n",
    "        raise_on_warnings= True\r\n",
    "    ) as connection_mysql:\r\n",
    "        connection_mysql.connect()        \r\n",
    "        if connection_mysql.is_connected():\r\n",
    "            print('Connected to MySQL database')\r\n",
    "        print(connection_mysql)        \r\n",
    "except Error as e:\r\n",
    "    print(e)\r\n",
    "\r\n",
    "    "
   ],
   "outputs": [
    {
     "output_type": "stream",
     "name": "stdout",
     "text": [
      "Connected to MySQL database\n",
      "<mysql.connector.connection.MySQLConnection object at 0x0000008CC7A773C8>\n"
     ]
    }
   ],
   "metadata": {}
  },
  {
   "cell_type": "code",
   "execution_count": 46,
   "source": [
    "def connect__mysql():\r\n",
    "    try:\r\n",
    "        connection =  connect(\r\n",
    "        host=\"104.199.45.255\",\r\n",
    "        user=\"only_select\",\r\n",
    "        password=\"92sIWKCMDNuwy2o\", \r\n",
    "        database=\"planetahuerto\",\r\n",
    "        raise_on_warnings= True\r\n",
    "    )\r\n",
    "        return connection\r\n",
    "    except Error as e:\r\n",
    "        print(e)\r\n",
    "\r\n",
    "connection = connect__mysql()  "
   ],
   "outputs": [],
   "metadata": {}
  },
  {
   "cell_type": "code",
   "execution_count": 47,
   "source": [
    "# Consulta Origen\r\n",
    "\r\n",
    "query = \"\"\"SELECT\r\n",
    "  A.id as pedido_id\r\n",
    ", A.web_id\r\n",
    ", A.estado_id\r\n",
    ", A.cliente_id\r\n",
    ", A.forma_pago_id\r\n",
    ", A.descuento_id\r\n",
    ", A.porte_id\r\n",
    ", A.solicitud as solicitud\r\n",
    ", A.envio as envio\r\n",
    ", A.codigo_postal \r\n",
    ", A.poblacion\r\n",
    ", A.provincia\r\n",
    ", A.comision_cliente\r\n",
    ", A.comision_comercio\r\n",
    ", A.comision_marketplace\r\n",
    ", A.gastos_envio\r\n",
    ", A.descuento_aplicado\r\n",
    ", A.subtotal\r\n",
    ", A.total\r\n",
    ", A.coste_portes_cliente\r\n",
    ", A.coste_portes_real\r\n",
    ", A.coste_portes_calculado\r\n",
    ", A.donacion\r\n",
    ", A.last_update\r\n",
    ", C.id as lp_id\r\n",
    ", C.producto_id \r\n",
    ", C.unidades \r\n",
    ", C.precio \r\n",
    ", C.precio_compra \r\n",
    ", C.iva \r\n",
    "FROM pedido A\r\n",
    "left join linea_pedido C ON ( A.id = C.pedido_id )\r\n",
    "WHERE   year(A.solicitud)= 2020 and MONTH(A.solicitud)=1 and DAY(A.solicitud) IN (1,2)\r\n",
    "order by A.id, C.id \"\"\"\r\n",
    "\r\n",
    "with connection.cursor() as cursor:\r\n",
    "     cursor.execute(query)\r\n",
    "     df_origen = pd.DataFrame(cursor.fetchall())\r\n",
    "     df_origen.columns = cursor.column_names\r\n",
    "     for row in cursor.fetchall():\r\n",
    "        print(row)"
   ],
   "outputs": [],
   "metadata": {}
  },
  {
   "cell_type": "code",
   "execution_count": 48,
   "source": [
    "df_origen\r\n"
   ],
   "outputs": [
    {
     "output_type": "execute_result",
     "data": {
      "text/html": [
       "<div>\n",
       "<style scoped>\n",
       "    .dataframe tbody tr th:only-of-type {\n",
       "        vertical-align: middle;\n",
       "    }\n",
       "\n",
       "    .dataframe tbody tr th {\n",
       "        vertical-align: top;\n",
       "    }\n",
       "\n",
       "    .dataframe thead th {\n",
       "        text-align: right;\n",
       "    }\n",
       "</style>\n",
       "<table border=\"1\" class=\"dataframe\">\n",
       "  <thead>\n",
       "    <tr style=\"text-align: right;\">\n",
       "      <th></th>\n",
       "      <th>pedido_id</th>\n",
       "      <th>web_id</th>\n",
       "      <th>estado_id</th>\n",
       "      <th>cliente_id</th>\n",
       "      <th>forma_pago_id</th>\n",
       "      <th>descuento_id</th>\n",
       "      <th>porte_id</th>\n",
       "      <th>solicitud</th>\n",
       "      <th>envio</th>\n",
       "      <th>codigo_postal</th>\n",
       "      <th>...</th>\n",
       "      <th>coste_portes_real</th>\n",
       "      <th>coste_portes_calculado</th>\n",
       "      <th>donacion</th>\n",
       "      <th>last_update</th>\n",
       "      <th>lp_id</th>\n",
       "      <th>producto_id</th>\n",
       "      <th>unidades</th>\n",
       "      <th>precio</th>\n",
       "      <th>precio_compra</th>\n",
       "      <th>iva</th>\n",
       "    </tr>\n",
       "  </thead>\n",
       "  <tbody>\n",
       "    <tr>\n",
       "      <th>0</th>\n",
       "      <td>945433</td>\n",
       "      <td>1</td>\n",
       "      <td>6</td>\n",
       "      <td>480855</td>\n",
       "      <td>3</td>\n",
       "      <td>NaN</td>\n",
       "      <td>1.0</td>\n",
       "      <td>2020-01-01 00:05:31</td>\n",
       "      <td>NaT</td>\n",
       "      <td>03699</td>\n",
       "      <td>...</td>\n",
       "      <td>6.0</td>\n",
       "      <td>1.13</td>\n",
       "      <td>0.00</td>\n",
       "      <td>1624881409</td>\n",
       "      <td>3682176</td>\n",
       "      <td>10910</td>\n",
       "      <td>1</td>\n",
       "      <td>14.00</td>\n",
       "      <td>7.45</td>\n",
       "      <td>21.00</td>\n",
       "    </tr>\n",
       "    <tr>\n",
       "      <th>1</th>\n",
       "      <td>945434</td>\n",
       "      <td>2</td>\n",
       "      <td>5</td>\n",
       "      <td>611967</td>\n",
       "      <td>2</td>\n",
       "      <td>NaN</td>\n",
       "      <td>3.0</td>\n",
       "      <td>2020-01-01 00:05:43</td>\n",
       "      <td>2020-01-02 13:01:14</td>\n",
       "      <td>4820-125</td>\n",
       "      <td>...</td>\n",
       "      <td>6.0</td>\n",
       "      <td>3.39</td>\n",
       "      <td>0.00</td>\n",
       "      <td>1624881409</td>\n",
       "      <td>3682177</td>\n",
       "      <td>131122</td>\n",
       "      <td>1</td>\n",
       "      <td>4.99</td>\n",
       "      <td>3.28</td>\n",
       "      <td>23.00</td>\n",
       "    </tr>\n",
       "    <tr>\n",
       "      <th>2</th>\n",
       "      <td>945435</td>\n",
       "      <td>1</td>\n",
       "      <td>5</td>\n",
       "      <td>611965</td>\n",
       "      <td>1</td>\n",
       "      <td>NaN</td>\n",
       "      <td>1.0</td>\n",
       "      <td>2020-01-01 00:22:47</td>\n",
       "      <td>2020-01-02 14:00:59</td>\n",
       "      <td>03725</td>\n",
       "      <td>...</td>\n",
       "      <td>6.0</td>\n",
       "      <td>1.13</td>\n",
       "      <td>0.00</td>\n",
       "      <td>1624881409</td>\n",
       "      <td>3682178</td>\n",
       "      <td>85184</td>\n",
       "      <td>1</td>\n",
       "      <td>41.17</td>\n",
       "      <td>26.20</td>\n",
       "      <td>21.00</td>\n",
       "    </tr>\n",
       "    <tr>\n",
       "      <th>3</th>\n",
       "      <td>945436</td>\n",
       "      <td>1</td>\n",
       "      <td>6</td>\n",
       "      <td>611968</td>\n",
       "      <td>1</td>\n",
       "      <td>NaN</td>\n",
       "      <td>1.0</td>\n",
       "      <td>2020-01-01 00:23:32</td>\n",
       "      <td>NaT</td>\n",
       "      <td>08013</td>\n",
       "      <td>...</td>\n",
       "      <td>6.0</td>\n",
       "      <td>0.00</td>\n",
       "      <td>0.00</td>\n",
       "      <td>1624881409</td>\n",
       "      <td>3682179</td>\n",
       "      <td>124054</td>\n",
       "      <td>2</td>\n",
       "      <td>10.08</td>\n",
       "      <td>5.61</td>\n",
       "      <td>21.00</td>\n",
       "    </tr>\n",
       "    <tr>\n",
       "      <th>4</th>\n",
       "      <td>945436</td>\n",
       "      <td>1</td>\n",
       "      <td>6</td>\n",
       "      <td>611968</td>\n",
       "      <td>1</td>\n",
       "      <td>NaN</td>\n",
       "      <td>1.0</td>\n",
       "      <td>2020-01-01 00:23:32</td>\n",
       "      <td>NaT</td>\n",
       "      <td>08013</td>\n",
       "      <td>...</td>\n",
       "      <td>6.0</td>\n",
       "      <td>0.00</td>\n",
       "      <td>0.00</td>\n",
       "      <td>1624881409</td>\n",
       "      <td>3682180</td>\n",
       "      <td>140228</td>\n",
       "      <td>1</td>\n",
       "      <td>38.95</td>\n",
       "      <td>31.90</td>\n",
       "      <td>21.00</td>\n",
       "    </tr>\n",
       "    <tr>\n",
       "      <th>...</th>\n",
       "      <td>...</td>\n",
       "      <td>...</td>\n",
       "      <td>...</td>\n",
       "      <td>...</td>\n",
       "      <td>...</td>\n",
       "      <td>...</td>\n",
       "      <td>...</td>\n",
       "      <td>...</td>\n",
       "      <td>...</td>\n",
       "      <td>...</td>\n",
       "      <td>...</td>\n",
       "      <td>...</td>\n",
       "      <td>...</td>\n",
       "      <td>...</td>\n",
       "      <td>...</td>\n",
       "      <td>...</td>\n",
       "      <td>...</td>\n",
       "      <td>...</td>\n",
       "      <td>...</td>\n",
       "      <td>...</td>\n",
       "      <td>...</td>\n",
       "    </tr>\n",
       "    <tr>\n",
       "      <th>4893</th>\n",
       "      <td>946882</td>\n",
       "      <td>25</td>\n",
       "      <td>5</td>\n",
       "      <td>612878</td>\n",
       "      <td>10</td>\n",
       "      <td>NaN</td>\n",
       "      <td>5.0</td>\n",
       "      <td>2020-01-02 23:40:09</td>\n",
       "      <td>2020-01-03 10:01:50</td>\n",
       "      <td>02660</td>\n",
       "      <td>...</td>\n",
       "      <td>0.0</td>\n",
       "      <td>1.13</td>\n",
       "      <td>0.00</td>\n",
       "      <td>1624881429</td>\n",
       "      <td>3687371</td>\n",
       "      <td>44733</td>\n",
       "      <td>1</td>\n",
       "      <td>53.90</td>\n",
       "      <td>29.16</td>\n",
       "      <td>21.00</td>\n",
       "    </tr>\n",
       "    <tr>\n",
       "      <th>4894</th>\n",
       "      <td>946897</td>\n",
       "      <td>23</td>\n",
       "      <td>5</td>\n",
       "      <td>612896</td>\n",
       "      <td>10</td>\n",
       "      <td>NaN</td>\n",
       "      <td>21.0</td>\n",
       "      <td>2020-01-02 22:00:25</td>\n",
       "      <td>2020-01-03 10:01:52</td>\n",
       "      <td>40291</td>\n",
       "      <td>...</td>\n",
       "      <td>0.0</td>\n",
       "      <td>1.13</td>\n",
       "      <td>0.00</td>\n",
       "      <td>1624881429</td>\n",
       "      <td>3687426</td>\n",
       "      <td>115567</td>\n",
       "      <td>1</td>\n",
       "      <td>44.75</td>\n",
       "      <td>28.48</td>\n",
       "      <td>21.00</td>\n",
       "    </tr>\n",
       "    <tr>\n",
       "      <th>4895</th>\n",
       "      <td>948274</td>\n",
       "      <td>25</td>\n",
       "      <td>5</td>\n",
       "      <td>613723</td>\n",
       "      <td>10</td>\n",
       "      <td>NaN</td>\n",
       "      <td>5.0</td>\n",
       "      <td>2020-01-01 11:56:58</td>\n",
       "      <td>2020-01-07 08:03:33</td>\n",
       "      <td>50600</td>\n",
       "      <td>...</td>\n",
       "      <td>0.0</td>\n",
       "      <td>1.13</td>\n",
       "      <td>0.00</td>\n",
       "      <td>1624881447</td>\n",
       "      <td>3692469</td>\n",
       "      <td>36415</td>\n",
       "      <td>1</td>\n",
       "      <td>24.15</td>\n",
       "      <td>14.14</td>\n",
       "      <td>21.00</td>\n",
       "    </tr>\n",
       "    <tr>\n",
       "      <th>4896</th>\n",
       "      <td>948338</td>\n",
       "      <td>25</td>\n",
       "      <td>5</td>\n",
       "      <td>613760</td>\n",
       "      <td>10</td>\n",
       "      <td>NaN</td>\n",
       "      <td>5.0</td>\n",
       "      <td>2020-01-02 11:49:25</td>\n",
       "      <td>2020-01-07 10:02:18</td>\n",
       "      <td>27520</td>\n",
       "      <td>...</td>\n",
       "      <td>0.0</td>\n",
       "      <td>1.13</td>\n",
       "      <td>0.00</td>\n",
       "      <td>1624881448</td>\n",
       "      <td>3692777</td>\n",
       "      <td>132078</td>\n",
       "      <td>1</td>\n",
       "      <td>2.41</td>\n",
       "      <td>1.31</td>\n",
       "      <td>21.00</td>\n",
       "    </tr>\n",
       "    <tr>\n",
       "      <th>4897</th>\n",
       "      <td>948346</td>\n",
       "      <td>25</td>\n",
       "      <td>5</td>\n",
       "      <td>613768</td>\n",
       "      <td>10</td>\n",
       "      <td>NaN</td>\n",
       "      <td>5.0</td>\n",
       "      <td>2020-01-02 17:25:58</td>\n",
       "      <td>2020-01-07 10:02:18</td>\n",
       "      <td>41020</td>\n",
       "      <td>...</td>\n",
       "      <td>0.0</td>\n",
       "      <td>1.13</td>\n",
       "      <td>0.00</td>\n",
       "      <td>1624881448</td>\n",
       "      <td>3692785</td>\n",
       "      <td>106074</td>\n",
       "      <td>1</td>\n",
       "      <td>8.90</td>\n",
       "      <td>6.08</td>\n",
       "      <td>10.00</td>\n",
       "    </tr>\n",
       "  </tbody>\n",
       "</table>\n",
       "<p>4898 rows × 30 columns</p>\n",
       "</div>"
      ],
      "text/plain": [
       "      pedido_id  web_id  estado_id  cliente_id  forma_pago_id  descuento_id  \\\n",
       "0        945433       1          6      480855              3           NaN   \n",
       "1        945434       2          5      611967              2           NaN   \n",
       "2        945435       1          5      611965              1           NaN   \n",
       "3        945436       1          6      611968              1           NaN   \n",
       "4        945436       1          6      611968              1           NaN   \n",
       "...         ...     ...        ...         ...            ...           ...   \n",
       "4893     946882      25          5      612878             10           NaN   \n",
       "4894     946897      23          5      612896             10           NaN   \n",
       "4895     948274      25          5      613723             10           NaN   \n",
       "4896     948338      25          5      613760             10           NaN   \n",
       "4897     948346      25          5      613768             10           NaN   \n",
       "\n",
       "      porte_id           solicitud               envio codigo_postal  ...  \\\n",
       "0          1.0 2020-01-01 00:05:31                 NaT         03699  ...   \n",
       "1          3.0 2020-01-01 00:05:43 2020-01-02 13:01:14      4820-125  ...   \n",
       "2          1.0 2020-01-01 00:22:47 2020-01-02 14:00:59         03725  ...   \n",
       "3          1.0 2020-01-01 00:23:32                 NaT         08013  ...   \n",
       "4          1.0 2020-01-01 00:23:32                 NaT         08013  ...   \n",
       "...        ...                 ...                 ...           ...  ...   \n",
       "4893       5.0 2020-01-02 23:40:09 2020-01-03 10:01:50         02660  ...   \n",
       "4894      21.0 2020-01-02 22:00:25 2020-01-03 10:01:52         40291  ...   \n",
       "4895       5.0 2020-01-01 11:56:58 2020-01-07 08:03:33         50600  ...   \n",
       "4896       5.0 2020-01-02 11:49:25 2020-01-07 10:02:18         27520  ...   \n",
       "4897       5.0 2020-01-02 17:25:58 2020-01-07 10:02:18         41020  ...   \n",
       "\n",
       "     coste_portes_real coste_portes_calculado donacion last_update    lp_id  \\\n",
       "0                  6.0                   1.13     0.00  1624881409  3682176   \n",
       "1                  6.0                   3.39     0.00  1624881409  3682177   \n",
       "2                  6.0                   1.13     0.00  1624881409  3682178   \n",
       "3                  6.0                   0.00     0.00  1624881409  3682179   \n",
       "4                  6.0                   0.00     0.00  1624881409  3682180   \n",
       "...                ...                    ...      ...         ...      ...   \n",
       "4893               0.0                   1.13     0.00  1624881429  3687371   \n",
       "4894               0.0                   1.13     0.00  1624881429  3687426   \n",
       "4895               0.0                   1.13     0.00  1624881447  3692469   \n",
       "4896               0.0                   1.13     0.00  1624881448  3692777   \n",
       "4897               0.0                   1.13     0.00  1624881448  3692785   \n",
       "\n",
       "     producto_id unidades precio precio_compra    iva  \n",
       "0          10910        1  14.00          7.45  21.00  \n",
       "1         131122        1   4.99          3.28  23.00  \n",
       "2          85184        1  41.17         26.20  21.00  \n",
       "3         124054        2  10.08          5.61  21.00  \n",
       "4         140228        1  38.95         31.90  21.00  \n",
       "...          ...      ...    ...           ...    ...  \n",
       "4893       44733        1  53.90         29.16  21.00  \n",
       "4894      115567        1  44.75         28.48  21.00  \n",
       "4895       36415        1  24.15         14.14  21.00  \n",
       "4896      132078        1   2.41          1.31  21.00  \n",
       "4897      106074        1   8.90          6.08  10.00  \n",
       "\n",
       "[4898 rows x 30 columns]"
      ]
     },
     "metadata": {},
     "execution_count": 48
    }
   ],
   "metadata": {}
  },
  {
   "cell_type": "code",
   "execution_count": 49,
   "source": [
    "#Conexion POSTGRESQL DATAWAREHOUSE DESTINO\r\n",
    "try:\r\n",
    "    with pg.connect(\r\n",
    "        host=\"104.199.33.253\",\r\n",
    "        user=\"postgres\",\r\n",
    "        password=\"2befac6b806c69c81bf18a665db80bbd5\", \r\n",
    "        database=\"postgres\"\r\n",
    "    ) as connection_pg:\r\n",
    "        print(connection_pg)\r\n",
    "except Error as e:\r\n",
    "    print(e)"
   ],
   "outputs": [
    {
     "output_type": "stream",
     "name": "stdout",
     "text": [
      "<connection object at 0x0000008CC7F3CCA8; dsn: 'user=postgres password=xxx dbname=postgres host=104.199.33.253', closed: 0>\n"
     ]
    }
   ],
   "metadata": {}
  },
  {
   "cell_type": "code",
   "execution_count": 50,
   "source": [
    "df_destino = pd.read_sql_query(\"\"\"select * from preproduccion.ds_pedidos_prueba A WHERE extract(year from A.solicitud) = 2020 and\r\n",
    "extract(month from A.solicitud) = 1 and extract(day from A.solicitud) = 1\"\"\",con=connection_pg)"
   ],
   "outputs": [],
   "metadata": {}
  },
  {
   "cell_type": "code",
   "execution_count": 51,
   "source": [
    "type(df_origen)"
   ],
   "outputs": [
    {
     "output_type": "execute_result",
     "data": {
      "text/plain": [
       "pandas.core.frame.DataFrame"
      ]
     },
     "metadata": {},
     "execution_count": 51
    }
   ],
   "metadata": {}
  },
  {
   "cell_type": "code",
   "execution_count": 52,
   "source": [
    "type(df_destino)"
   ],
   "outputs": [
    {
     "output_type": "execute_result",
     "data": {
      "text/plain": [
       "pandas.core.frame.DataFrame"
      ]
     },
     "metadata": {},
     "execution_count": 52
    }
   ],
   "metadata": {}
  },
  {
   "cell_type": "code",
   "execution_count": 55,
   "source": [
    "print(df_destino.shape)\r\n",
    "print(df_origen.shape)"
   ],
   "outputs": [
    {
     "output_type": "stream",
     "name": "stdout",
     "text": [
      "(1965, 30)\n",
      "(4898, 30)\n"
     ]
    }
   ],
   "metadata": {}
  },
  {
   "cell_type": "code",
   "execution_count": 56,
   "source": [
    "df_origen = df_origen.astype(df_destino.dtypes.to_dict())\r\n",
    "\r\n",
    "\r\n",
    "#for x in df1.columns:\r\n",
    "    #df[x]=df[x].astype(df1[x].dtypes.name)"
   ],
   "outputs": [],
   "metadata": {}
  },
  {
   "cell_type": "code",
   "execution_count": 13,
   "source": [
    "df_origen.dtypes"
   ],
   "outputs": [
    {
     "output_type": "execute_result",
     "data": {
      "text/plain": [
       "pedido_id                          int64\n",
       "web_id                             int64\n",
       "estado_id                          int64\n",
       "cliente_id                         int64\n",
       "forma_pago_id                      int64\n",
       "descuento_id                     float64\n",
       "porte_id                         float64\n",
       "solicitud                 datetime64[ns]\n",
       "envio                     datetime64[ns]\n",
       "codigo_postal                     object\n",
       "poblacion                         object\n",
       "provincia                         object\n",
       "comision_cliente                 float64\n",
       "comision_comercio                float64\n",
       "comision_marketplace             float64\n",
       "gastos_envio                     float64\n",
       "descuento_aplicado               float64\n",
       "subtotal                         float64\n",
       "total                            float64\n",
       "coste_portes_cliente             float64\n",
       "coste_portes_real                float64\n",
       "coste_portes_calculado           float64\n",
       "donacion                         float64\n",
       "last_update                        int64\n",
       "lp_id                              int64\n",
       "producto_id                        int64\n",
       "unidades                           int64\n",
       "precio                           float64\n",
       "precio_compra                    float64\n",
       "iva                              float64\n",
       "dtype: object"
      ]
     },
     "metadata": {},
     "execution_count": 13
    }
   ],
   "metadata": {}
  },
  {
   "cell_type": "code",
   "execution_count": 14,
   "source": [
    "df_destino.dtypes"
   ],
   "outputs": [
    {
     "output_type": "execute_result",
     "data": {
      "text/plain": [
       "pedido_id                          int64\n",
       "web_id                             int64\n",
       "estado_id                          int64\n",
       "cliente_id                         int64\n",
       "forma_pago_id                      int64\n",
       "descuento_id                     float64\n",
       "porte_id                         float64\n",
       "solicitud                 datetime64[ns]\n",
       "envio                     datetime64[ns]\n",
       "codigo_postal                     object\n",
       "poblacion                         object\n",
       "provincia                         object\n",
       "comision_cliente                 float64\n",
       "comision_comercio                float64\n",
       "comision_marketplace             float64\n",
       "gastos_envio                     float64\n",
       "descuento_aplicado               float64\n",
       "subtotal                         float64\n",
       "total                            float64\n",
       "coste_portes_cliente             float64\n",
       "coste_portes_real                float64\n",
       "coste_portes_calculado           float64\n",
       "donacion                         float64\n",
       "last_update                        int64\n",
       "lp_id                              int64\n",
       "producto_id                        int64\n",
       "unidades                           int64\n",
       "precio                           float64\n",
       "precio_compra                    float64\n",
       "iva                              float64\n",
       "dtype: object"
      ]
     },
     "metadata": {},
     "execution_count": 14
    }
   ],
   "metadata": {}
  },
  {
   "cell_type": "code",
   "execution_count": 57,
   "source": [
    "from pyspark.sql import SparkSession ,SQLContext\r\n",
    "#Create PySpark SparkSession\r\n",
    "spark = SparkSession.builder \\\r\n",
    "    .master(\"local[1]\") \\\r\n",
    "    .appName(\"Incremental_Load_Spark_KM\") \\\r\n",
    "    .getOrCreate()\r\n",
    "    \r\n",
    "    \r\n",
    "spark.conf.set(\"spark.sql.execution.arrow.enabled\",\"true\")\r\n"
   ],
   "outputs": [],
   "metadata": {}
  },
  {
   "cell_type": "code",
   "execution_count": 58,
   "source": [
    "#Create PySpark DataFrame from Pandas\r\n",
    "sparkDF_destino=spark.createDataFrame(df_destino) \r\n",
    "sparkDF_destino.show()\r\n",
    "#Create PySpark DataFrame from Pandas\r\n",
    "sparkDF_origen=spark.createDataFrame(df_origen) \r\n",
    "sparkDF_origen.show()"
   ],
   "outputs": [
    {
     "output_type": "stream",
     "name": "stdout",
     "text": [
      "+---------+------+---------+----------+-------------+------------+--------+-------------------+-------------------+-------------+--------------------+---------+----------------+-----------------+--------------------+------------+------------------+--------+-----+--------------------+-----------------+----------------------+--------+-----------+-------+-----------+--------+------+-------------+----+\n",
      "|pedido_id|web_id|estado_id|cliente_id|forma_pago_id|descuento_id|porte_id|          solicitud|              envio|codigo_postal|           poblacion|provincia|comision_cliente|comision_comercio|comision_marketplace|gastos_envio|descuento_aplicado|subtotal|total|coste_portes_cliente|coste_portes_real|coste_portes_calculado|donacion|last_update|  lp_id|producto_id|unidades|precio|precio_compra| iva|\n",
      "+---------+------+---------+----------+-------------+------------+--------+-------------------+-------------------+-------------+--------------------+---------+----------------+-----------------+--------------------+------------+------------------+--------+-----+--------------------+-----------------+----------------------+--------+-----------+-------+-----------+--------+------+-------------+----+\n",
      "|   945433|     1|        6|    480855|            3|        null|     1.0|2020-01-01 00:05:31|               null|        03699|            Alicante| ALICANTE|             0.0|              0.0|                 0.0|        4.95|              null|    14.0|18.95|                4.09|              6.0|                  1.13|     0.0| 1624881409|3682176|      10910|       1|  14.0|         7.45|21.0|\n",
      "|   945434|     2|        5|    611967|            2|        null|     3.0|2020-01-01 00:05:43|2020-01-02 13:01:14|     4820-125|                Fafe|     Fafe|             0.0|             0.53|                 0.0|        4.95|              null|    4.99| 9.94|                4.09|              6.0|                  3.39|     0.0| 1624881409|3682177|     131122|       1|  4.99|         3.28|23.0|\n",
      "|   945435|     1|        5|    611965|            1|        null|     1.0|2020-01-01 00:22:47|2020-01-02 14:00:59|        03725|             Teulada| ALICANTE|             0.0|             0.24|                 0.0|        4.95|              null|   41.17|46.12|                4.09|              6.0|                  1.13|     0.0| 1624881409|3682178|      85184|       1| 41.17|         26.2|21.0|\n",
      "|   945436|     1|        6|    611968|            1|        null|     1.0|2020-01-01 00:23:32|               null|        08013|           BARCELONA|     null|             0.0|             0.28|                 0.0|         0.0|              null|   59.11|59.11|                 0.0|              6.0|                   0.0|     0.0| 1624881409|3682179|     124054|       2| 10.08|         5.61|21.0|\n",
      "|   945436|     1|        6|    611968|            1|        null|     1.0|2020-01-01 00:23:32|               null|        08013|           BARCELONA|     null|             0.0|             0.28|                 0.0|         0.0|              null|   59.11|59.11|                 0.0|              6.0|                   0.0|     0.0| 1624881409|3682180|     140228|       1| 38.95|         31.9|21.0|\n",
      "|   945439|    25|        6|    611973|           10|        null|     5.0|2020-01-01 00:06:11|2020-01-02 11:01:16|        28260|           Galapagar|   MADRID|            null|             null|                2.89|        4.95|              null|   16.45| 21.4|                4.09|              0.0|                  1.13|     0.0| 1624881409|3682183|      42632|       1| 16.45|         9.69|21.0|\n",
      "|   945440|     2|        5|    611969|            2|        null|     3.0|2020-01-01 00:51:49|2020-01-02 15:00:55|     2530-880|Casal Novo - Lour...| Lourinhâ|             0.0|             1.28|                 0.0|         0.0|              null|   51.75|51.75|                 0.0|              6.0|                  3.39|     0.0| 1624881409|3682184|         58|       1|  21.9|         14.4|23.0|\n",
      "|   945440|     2|        5|    611969|            2|        null|     3.0|2020-01-01 00:51:49|2020-01-02 15:00:55|     2530-880|Casal Novo - Lour...| Lourinhâ|             0.0|             1.28|                 0.0|         0.0|              null|   51.75|51.75|                 0.0|              6.0|                  3.39|     0.0| 1624881409|3682185|       7528|       1|  9.95|          5.7|13.0|\n",
      "|   945440|     2|        5|    611969|            2|        null|     3.0|2020-01-01 00:51:49|2020-01-02 15:00:55|     2530-880|Casal Novo - Lour...| Lourinhâ|             0.0|             1.28|                 0.0|         0.0|              null|   51.75|51.75|                 0.0|              6.0|                  3.39|     0.0| 1624881409|3682186|       7480|       1|  9.95|          5.7|13.0|\n",
      "|   945440|     2|        5|    611969|            2|        null|     3.0|2020-01-01 00:51:49|2020-01-02 15:00:55|     2530-880|Casal Novo - Lour...| Lourinhâ|             0.0|             1.28|                 0.0|         0.0|              null|   51.75|51.75|                 0.0|              6.0|                  3.39|     0.0| 1624881409|3682187|       7530|       1|  9.95|          5.7|13.0|\n",
      "|   945441|     1|        6|    480855|            3|        null|     1.0|2020-01-01 01:04:39|               null|        03699|            Alicante| ALICANTE|             0.0|              0.0|                 0.0|        4.95|              null|    14.0|18.95|                4.09|              6.0|                  1.13|     0.0| 1624881409|3682188|      10910|       1|  14.0|         7.45|21.0|\n",
      "|   945442|     1|        5|    581378|            1|        null|     1.0|2020-01-01 01:40:32|2020-01-02 11:01:17|        46540|El Puig de Santam...| VALENCIA|             0.0|             0.26|                 0.0|         0.0|              null|   53.48|53.48|                 0.0|              6.0|                   0.0|     0.0| 1624881409|3682189|      14041|       1|  4.95|         1.62|21.0|\n",
      "|   945442|     1|        5|    581378|            1|        null|     1.0|2020-01-01 01:40:32|2020-01-02 11:01:17|        46540|El Puig de Santam...| VALENCIA|             0.0|             0.26|                 0.0|         0.0|              null|   53.48|53.48|                 0.0|              6.0|                   0.0|     0.0| 1624881409|3682190|      49132|       2| 19.95|        12.21|21.0|\n",
      "|   945442|     1|        5|    581378|            1|        null|     1.0|2020-01-01 01:40:32|2020-01-02 11:01:17|        46540|El Puig de Santam...| VALENCIA|             0.0|             0.26|                 0.0|         0.0|              null|   53.48|53.48|                 0.0|              6.0|                   0.0|     0.0| 1624881409|3682191|     140216|       1|  8.63|         8.63|21.0|\n",
      "|   945443|     1|        5|    611976|            2|        null|     1.0|2020-01-01 01:45:04|2020-01-02 14:01:00|        08036|           barcelona|BARCELONA|             0.0|             0.76|                 0.0|        4.95|              null|    17.7|22.65|                4.09|              6.0|                  1.13|     0.0| 1624881409|3682192|     112238|       3|  2.95|          2.0|10.0|\n",
      "|   945443|     1|        5|    611976|            2|        null|     1.0|2020-01-01 01:45:04|2020-01-02 14:01:00|        08036|           barcelona|BARCELONA|             0.0|             0.76|                 0.0|        4.95|              null|    17.7|22.65|                4.09|              6.0|                  1.13|     0.0| 1624881409|3682193|     111969|       3|  2.95|          2.0|21.0|\n",
      "|   945444|     1|        5|    386698|            2|     17285.0|     1.0|2020-01-01 01:46:48|2020-01-02 11:01:17|        46138|         Rafelbunyol| VALENCIA|             0.0|             1.19|                 0.0|         0.0|              2.47|    49.4|46.93|                 0.0|              6.0|                  1.13|     0.0| 1624881409|3682194|      36777|       1|  3.42|         1.49|21.0|\n",
      "|   945444|     1|        5|    386698|            2|     17285.0|     1.0|2020-01-01 01:46:48|2020-01-02 11:01:17|        46138|         Rafelbunyol| VALENCIA|             0.0|             1.19|                 0.0|         0.0|              2.47|    49.4|46.93|                 0.0|              6.0|                  1.13|     0.0| 1624881409|3682195|      30848|       1|  2.15|         1.26|21.0|\n",
      "|   945444|     1|        5|    386698|            2|     17285.0|     1.0|2020-01-01 01:46:48|2020-01-02 11:01:17|        46138|         Rafelbunyol| VALENCIA|             0.0|             1.19|                 0.0|         0.0|              2.47|    49.4|46.93|                 0.0|              6.0|                  1.13|     0.0| 1624881409|3682196|      10270|       2|   3.6|         1.67|21.0|\n",
      "|   945444|     1|        5|    386698|            2|     17285.0|     1.0|2020-01-01 01:46:48|2020-01-02 11:01:17|        46138|         Rafelbunyol| VALENCIA|             0.0|             1.19|                 0.0|         0.0|              2.47|    49.4|46.93|                 0.0|              6.0|                  1.13|     0.0| 1624881409|3682197|     119505|       1|  7.99|         5.11|21.0|\n",
      "+---------+------+---------+----------+-------------+------------+--------+-------------------+-------------------+-------------+--------------------+---------+----------------+-----------------+--------------------+------------+------------------+--------+-----+--------------------+-----------------+----------------------+--------+-----------+-------+-----------+--------+------+-------------+----+\n",
      "only showing top 20 rows\n",
      "\n",
      "+---------+------+---------+----------+-------------+------------+--------+-------------------+-------------------+-------------+--------------------+---------+----------------+-----------------+--------------------+------------+------------------+--------+-----+--------------------+-----------------+----------------------+--------+-----------+-------+-----------+--------+------+-------------+----+\n",
      "|pedido_id|web_id|estado_id|cliente_id|forma_pago_id|descuento_id|porte_id|          solicitud|              envio|codigo_postal|           poblacion|provincia|comision_cliente|comision_comercio|comision_marketplace|gastos_envio|descuento_aplicado|subtotal|total|coste_portes_cliente|coste_portes_real|coste_portes_calculado|donacion|last_update|  lp_id|producto_id|unidades|precio|precio_compra| iva|\n",
      "+---------+------+---------+----------+-------------+------------+--------+-------------------+-------------------+-------------+--------------------+---------+----------------+-----------------+--------------------+------------+------------------+--------+-----+--------------------+-----------------+----------------------+--------+-----------+-------+-----------+--------+------+-------------+----+\n",
      "|   945433|     1|        6|    480855|            3|        null|     1.0|2020-01-01 00:05:31|               null|        03699|            Alicante| ALICANTE|             0.0|              0.0|                 0.0|        4.95|              null|    14.0|18.95|                4.09|              6.0|                  1.13|     0.0| 1624881409|3682176|      10910|       1|  14.0|         7.45|21.0|\n",
      "|   945434|     2|        5|    611967|            2|        null|     3.0|2020-01-01 00:05:43|2020-01-02 13:01:14|     4820-125|                Fafe|     Fafe|             0.0|             0.53|                 0.0|        4.95|              null|    4.99| 9.94|                4.09|              6.0|                  3.39|     0.0| 1624881409|3682177|     131122|       1|  4.99|         3.28|23.0|\n",
      "|   945435|     1|        5|    611965|            1|        null|     1.0|2020-01-01 00:22:47|2020-01-02 14:00:59|        03725|             Teulada| ALICANTE|             0.0|             0.24|                 0.0|        4.95|              null|   41.17|46.12|                4.09|              6.0|                  1.13|     0.0| 1624881409|3682178|      85184|       1| 41.17|         26.2|21.0|\n",
      "|   945436|     1|        6|    611968|            1|        null|     1.0|2020-01-01 00:23:32|               null|        08013|           BARCELONA|     null|             0.0|             0.28|                 0.0|         0.0|              null|   59.11|59.11|                 0.0|              6.0|                   0.0|     0.0| 1624881409|3682179|     124054|       2| 10.08|         5.61|21.0|\n",
      "|   945436|     1|        6|    611968|            1|        null|     1.0|2020-01-01 00:23:32|               null|        08013|           BARCELONA|     null|             0.0|             0.28|                 0.0|         0.0|              null|   59.11|59.11|                 0.0|              6.0|                   0.0|     0.0| 1624881409|3682180|     140228|       1| 38.95|         31.9|21.0|\n",
      "|   945439|    25|        6|    611973|           10|        null|     5.0|2020-01-01 00:06:11|2020-01-02 11:01:16|        28260|           Galapagar|   MADRID|            null|             null|                2.89|        4.95|              null|   16.45| 21.4|                4.09|              0.0|                  1.13|     0.0| 1624881409|3682183|      42632|       1| 16.45|         9.69|21.0|\n",
      "|   945440|     2|        5|    611969|            2|        null|     3.0|2020-01-01 00:51:49|2020-01-02 15:00:55|     2530-880|Casal Novo - Lour...| Lourinhâ|             0.0|             1.28|                 0.0|         0.0|              null|   51.75|51.75|                 0.0|              6.0|                  3.39|     0.0| 1624881409|3682184|         58|       1|  21.9|         14.4|23.0|\n",
      "|   945440|     2|        5|    611969|            2|        null|     3.0|2020-01-01 00:51:49|2020-01-02 15:00:55|     2530-880|Casal Novo - Lour...| Lourinhâ|             0.0|             1.28|                 0.0|         0.0|              null|   51.75|51.75|                 0.0|              6.0|                  3.39|     0.0| 1624881409|3682185|       7528|       1|  9.95|          5.7|13.0|\n",
      "|   945440|     2|        5|    611969|            2|        null|     3.0|2020-01-01 00:51:49|2020-01-02 15:00:55|     2530-880|Casal Novo - Lour...| Lourinhâ|             0.0|             1.28|                 0.0|         0.0|              null|   51.75|51.75|                 0.0|              6.0|                  3.39|     0.0| 1624881409|3682186|       7480|       1|  9.95|          5.7|13.0|\n",
      "|   945440|     2|        5|    611969|            2|        null|     3.0|2020-01-01 00:51:49|2020-01-02 15:00:55|     2530-880|Casal Novo - Lour...| Lourinhâ|             0.0|             1.28|                 0.0|         0.0|              null|   51.75|51.75|                 0.0|              6.0|                  3.39|     0.0| 1624881409|3682187|       7530|       1|  9.95|          5.7|13.0|\n",
      "|   945441|     1|        6|    480855|            3|        null|     1.0|2020-01-01 01:04:39|               null|        03699|            Alicante| ALICANTE|             0.0|              0.0|                 0.0|        4.95|              null|    14.0|18.95|                4.09|              6.0|                  1.13|     0.0| 1624881409|3682188|      10910|       1|  14.0|         7.45|21.0|\n",
      "|   945442|     1|        5|    581378|            1|        null|     1.0|2020-01-01 01:40:32|2020-01-02 11:01:17|        46540|El Puig de Santam...| VALENCIA|             0.0|             0.26|                 0.0|         0.0|              null|   53.48|53.48|                 0.0|              6.0|                   0.0|     0.0| 1624881409|3682189|      14041|       1|  4.95|         1.62|21.0|\n",
      "|   945442|     1|        5|    581378|            1|        null|     1.0|2020-01-01 01:40:32|2020-01-02 11:01:17|        46540|El Puig de Santam...| VALENCIA|             0.0|             0.26|                 0.0|         0.0|              null|   53.48|53.48|                 0.0|              6.0|                   0.0|     0.0| 1624881409|3682190|      49132|       2| 19.95|        12.21|21.0|\n",
      "|   945442|     1|        5|    581378|            1|        null|     1.0|2020-01-01 01:40:32|2020-01-02 11:01:17|        46540|El Puig de Santam...| VALENCIA|             0.0|             0.26|                 0.0|         0.0|              null|   53.48|53.48|                 0.0|              6.0|                   0.0|     0.0| 1624881409|3682191|     140216|       1|  8.63|         8.63|21.0|\n",
      "|   945443|     1|        5|    611976|            2|        null|     1.0|2020-01-01 01:45:04|2020-01-02 14:01:00|        08036|           barcelona|BARCELONA|             0.0|             0.76|                 0.0|        4.95|              null|    17.7|22.65|                4.09|              6.0|                  1.13|     0.0| 1624881409|3682192|     112238|       3|  2.95|          2.0|10.0|\n",
      "|   945443|     1|        5|    611976|            2|        null|     1.0|2020-01-01 01:45:04|2020-01-02 14:01:00|        08036|           barcelona|BARCELONA|             0.0|             0.76|                 0.0|        4.95|              null|    17.7|22.65|                4.09|              6.0|                  1.13|     0.0| 1624881409|3682193|     111969|       3|  2.95|          2.0|21.0|\n",
      "|   945444|     1|        5|    386698|            2|     17285.0|     1.0|2020-01-01 01:46:48|2020-01-02 11:01:17|        46138|         Rafelbunyol| VALENCIA|             0.0|             1.19|                 0.0|         0.0|              2.47|    49.4|46.93|                 0.0|              6.0|                  1.13|     0.0| 1624881409|3682194|      36777|       1|  3.42|         1.49|21.0|\n",
      "|   945444|     1|        5|    386698|            2|     17285.0|     1.0|2020-01-01 01:46:48|2020-01-02 11:01:17|        46138|         Rafelbunyol| VALENCIA|             0.0|             1.19|                 0.0|         0.0|              2.47|    49.4|46.93|                 0.0|              6.0|                  1.13|     0.0| 1624881409|3682195|      30848|       1|  2.15|         1.26|21.0|\n",
      "|   945444|     1|        5|    386698|            2|     17285.0|     1.0|2020-01-01 01:46:48|2020-01-02 11:01:17|        46138|         Rafelbunyol| VALENCIA|             0.0|             1.19|                 0.0|         0.0|              2.47|    49.4|46.93|                 0.0|              6.0|                  1.13|     0.0| 1624881409|3682196|      10270|       2|   3.6|         1.67|21.0|\n",
      "|   945444|     1|        5|    386698|            2|     17285.0|     1.0|2020-01-01 01:46:48|2020-01-02 11:01:17|        46138|         Rafelbunyol| VALENCIA|             0.0|             1.19|                 0.0|         0.0|              2.47|    49.4|46.93|                 0.0|              6.0|                  1.13|     0.0| 1624881409|3682197|     119505|       1|  7.99|         5.11|21.0|\n",
      "+---------+------+---------+----------+-------------+------------+--------+-------------------+-------------------+-------------+--------------------+---------+----------------+-----------------+--------------------+------------+------------------+--------+-----+--------------------+-----------------+----------------------+--------+-----------+-------+-----------+--------+------+-------------+----+\n",
      "only showing top 20 rows\n",
      "\n"
     ]
    }
   ],
   "metadata": {}
  },
  {
   "cell_type": "code",
   "execution_count": 59,
   "source": [
    "sparkDF_destino.explain()"
   ],
   "outputs": [
    {
     "output_type": "stream",
     "name": "stdout",
     "text": [
      "== Physical Plan ==\n",
      "*(1) Scan ExistingRDD arrow[pedido_id#8257L,web_id#8258L,estado_id#8259L,cliente_id#8260L,forma_pago_id#8261L,descuento_id#8262,porte_id#8263,solicitud#8264,envio#8265,codigo_postal#8266,poblacion#8267,provincia#8268,comision_cliente#8269,comision_comercio#8270,comision_marketplace#8271,gastos_envio#8272,descuento_aplicado#8273,subtotal#8274,total#8275,coste_portes_cliente#8276,coste_portes_real#8277,coste_portes_calculado#8278,donacion#8279,last_update#8280L,... 6 more fields]\n",
      "\n",
      "\n"
     ]
    }
   ],
   "metadata": {}
  },
  {
   "cell_type": "code",
   "execution_count": 60,
   "source": [
    "sparkDF_destino.summary().show()"
   ],
   "outputs": [
    {
     "output_type": "stream",
     "name": "stdout",
     "text": [
      "+-------+------------------+------------------+-------------------+------------------+------------------+------------------+------------------+------------------+---------+---------+-------------------+------------------+--------------------+------------------+------------------+-----------------+-----------------+--------------------+-----------------+----------------------+-------------------+-------------------+-----------------+-----------------+------------------+------------------+-----------------+------------------+\n",
      "|summary|         pedido_id|            web_id|          estado_id|        cliente_id|     forma_pago_id|      descuento_id|          porte_id|     codigo_postal|poblacion|provincia|   comision_cliente| comision_comercio|comision_marketplace|      gastos_envio|descuento_aplicado|         subtotal|            total|coste_portes_cliente|coste_portes_real|coste_portes_calculado|           donacion|        last_update|            lp_id|      producto_id|          unidades|            precio|    precio_compra|               iva|\n",
      "+-------+------------------+------------------+-------------------+------------------+------------------+------------------+------------------+------------------+---------+---------+-------------------+------------------+--------------------+------------------+------------------+-----------------+-----------------+--------------------+-----------------+----------------------+-------------------+-------------------+-----------------+-----------------+------------------+------------------+-----------------+------------------+\n",
      "|  count|              1965|              1965|               1965|              1965|              1965|               809|              1949|              1965|     1965|     1906|               1886|              1886|                1965|              1965|               867|             1965|             1965|                1965|             1965|                  1965|               1965|               1965|             1965|             1965|              1965|              1965|             1965|              1965|\n",
      "|   mean|  945734.124173028|1.9694656488549618| 5.0534351145038165|433427.34605597967| 2.106361323155216|23969.179233621755|1.6531554643406876| 22001.93716433942|     16.0|     null|0.17143160127253412|0.6865429480381726| 0.21229516539440205|1.1977608142493656|  7.08301038062283|68.32410178117016|66.59328753180635|  1.1149058524173003|5.758778625954198|    1.0961054961832382|0.03206106870229008|1.624881412761832E9|3683173.227480916|65575.86005089058|1.6091603053435115|14.038656488549748| 8.40598473282443|16.573027989821885|\n",
      "| stddev|180.93430256341833| 4.396129102866394|0.22495678808529293|179328.05034821754|2.4547607931650206| 9139.456425777029|2.5105049409366433|13322.989795082614|     null|     null| 0.7268139603673791|0.6949027220515832|  1.5927905849985171| 2.289344856389694|3.7809958490782076| 40.2371615211719|36.85880931356185|  2.0211442016090575|1.178918061043656|       1.1971795041782|0.17907341374720387|   2.32301566741522| 610.364847536224|45463.88045595417| 2.384376668012252|29.712360039736367|18.95607760365672| 5.710638341422771|\n",
      "|    min|            945433|                 1|                  5|               295|                 1|             122.0|               1.0|             01008|   16.000| A CORUñA|                0.0|               0.0|                 0.0|               0.0|               0.0|              1.3|             6.25|                 0.0|              0.0|                   0.0|                0.0|         1624881409|          3682176|               58|                 1|              0.25|              0.0|               4.0|\n",
      "|    25%|            945582|                 1|                  5|            323314|                 1|           22586.0|               1.0|            8397.0|     16.0|     null|                0.0|              0.25|                 0.0|               0.0|               5.0|            49.82|            49.72|                 0.0|              6.0|                   0.0|                0.0|         1624881411|          3682675|            20937|                 1|              3.02|             1.82|              10.0|\n",
      "|    50%|            945733|                 1|                  5|            475563|                 1|           22734.0|               1.0|           23740.0|     16.0|     null|                0.0|              0.36|                 0.0|               0.0|              5.22|            61.11|             59.7|                 0.0|              6.0|                  1.13|                0.0|         1624881413|          3683167|            51928|                 1|              5.95|             3.45|              21.0|\n",
      "|    75%|            945885|                 1|                  5|            611454|                 2|           22734.0|               1.0|           29018.0|     16.0|     null|                0.0|              1.25|                 0.0|               0.0|              10.0|            99.63|             90.4|                1.61|              6.0|                  1.13|                0.0|         1624881415|          3683664|           114304|                 1|             13.75|             7.45|              21.0|\n",
      "|    max|            948274|                25|                  6|            613723|                18|           54619.0|              21.0|          8800-360| valencia|    Évora|               5.41|              3.53|               37.85|              6.95|             40.12|            679.0|            679.0|                9.14|              6.0|                  5.64|                2.0|         1624881447|          3692469|           140228|                60|             679.0|            476.0|              23.0|\n",
      "+-------+------------------+------------------+-------------------+------------------+------------------+------------------+------------------+------------------+---------+---------+-------------------+------------------+--------------------+------------------+------------------+-----------------+-----------------+--------------------+-----------------+----------------------+-------------------+-------------------+-----------------+-----------------+------------------+------------------+-----------------+------------------+\n",
      "\n"
     ]
    }
   ],
   "metadata": {}
  },
  {
   "cell_type": "code",
   "execution_count": 61,
   "source": [
    "mergedf = sparkDF_destino.union(sparkDF_origen).dropDuplicates()"
   ],
   "outputs": [],
   "metadata": {}
  },
  {
   "cell_type": "code",
   "execution_count": 62,
   "source": [
    "mergedf.count()"
   ],
   "outputs": [
    {
     "output_type": "execute_result",
     "data": {
      "text/plain": [
       "4925"
      ]
     },
     "metadata": {},
     "execution_count": 62
    }
   ],
   "metadata": {}
  },
  {
   "cell_type": "code",
   "execution_count": 64,
   "source": [
    "mergedf.show()"
   ],
   "outputs": [
    {
     "output_type": "stream",
     "name": "stdout",
     "text": [
      "+---------+------+---------+----------+-------------+------------+--------+-------------------+-------------------+-------------+--------------------+-----------+----------------+-----------------+--------------------+------------+------------------+--------+------+--------------------+-----------------+----------------------+--------+-----------+-------+-----------+--------+------+-------------+----+\n",
      "|pedido_id|web_id|estado_id|cliente_id|forma_pago_id|descuento_id|porte_id|          solicitud|              envio|codigo_postal|           poblacion|  provincia|comision_cliente|comision_comercio|comision_marketplace|gastos_envio|descuento_aplicado|subtotal| total|coste_portes_cliente|coste_portes_real|coste_portes_calculado|donacion|last_update|  lp_id|producto_id|unidades|precio|precio_compra| iva|\n",
      "+---------+------+---------+----------+-------------+------------+--------+-------------------+-------------------+-------------+--------------------+-----------+----------------+-----------------+--------------------+------------+------------------+--------+------+--------------------+-----------------+----------------------+--------+-----------+-------+-----------+--------+------+-------------+----+\n",
      "|   945649|     1|        5|    514512|            1|        null|     1.0|2020-01-01 15:28:09|2020-01-02 13:01:24|        19200|Azuqueca de Henares |GUADALAJARA|             0.0|             0.29|                 0.0|         0.0|              null|   63.92| 63.92|                 0.0|              6.0|                   0.0|     0.0| 1624881412|3682926|      35208|       4|  0.95|         0.63|10.0|\n",
      "|   945748|     1|        5|     36749|            2|     22586.0|     1.0|2020-01-01 18:45:52|2020-01-02 12:01:28|        11206|           ALGECIRAS|      CÁDIZ|             0.0|             1.51|                 0.0|         0.0|               5.0|   69.24| 64.24|                 0.0|              6.0|                  1.13|     0.0| 1624881413|3683239|      20809|       1| 15.15|         9.32|21.0|\n",
      "|   945748|     1|        5|     36749|            2|     22586.0|     1.0|2020-01-01 18:45:52|2020-01-02 12:01:28|        11206|           ALGECIRAS|      CÁDIZ|             0.0|             1.51|                 0.0|         0.0|               5.0|   69.24| 64.24|                 0.0|              6.0|                  1.13|     0.0| 1624881413|3683240|     118941|       2|  4.75|         1.91|21.0|\n",
      "|   945770|     1|        5|     48385|            1|        null|     1.0|2020-01-01 19:00:00|2020-01-02 12:01:30|        41003|             SEVILLA|    SEVILLA|             0.0|             0.32|                 0.0|         0.0|              null|   74.62| 74.62|                 0.0|              6.0|                   0.0|     0.0| 1624881413|3683281|      17386|       1|   9.4|         6.47|21.0|\n",
      "|   945782|     1|        5|    369619|            1|        null|     1.0|2020-01-01 19:14:29|2020-01-08 15:00:40|        43569|             ALCANAR|  TARRAGONA|             0.0|              0.1|                 0.0|        4.95|               0.0|    24.7| 29.65|                4.09|              6.0|                  1.13|     0.0| 1624881413|3683320|      34686|       2|   5.6|          3.2|10.0|\n",
      "|   945796|     1|        5|     82738|            1|        null|     1.0|2020-01-01 19:48:17|2020-01-09 08:02:09|        07500|             Manacor|   BALEARES|             0.0|             0.26|                 0.0|         0.0|              null|   53.14| 53.14|                 0.0|              6.0|                  5.64|     0.0| 1624881414|3683352|      12116|       1|  1.49|         1.05|10.0|\n",
      "|   945818|     1|        5|    551081|            1|        null|     1.0|2020-01-01 20:06:40|2020-01-02 13:01:38|        08198|Sant Cugat del Va...|  BARCELONA|             0.0|              0.1|                 0.0|         0.0|               0.0|   88.98| 88.98|                 0.0|              6.0|                   0.0|     0.0| 1624881414|3683446|      40555|       1|  1.75|         1.56|10.0|\n",
      "|   945822|     1|        5|    612207|            1|        null|     1.0|2020-01-01 20:09:53|2020-01-02 13:01:38|        29002|              Malaga|     MÁLAGA|             0.0|             0.31|                 0.0|         0.0|              null|   69.88| 69.88|                 0.0|              6.0|                  1.13|     0.0| 1624881414|3683465|     110994|       1| 11.58|         5.34|21.0|\n",
      "|   945853|     1|        5|    305533|            2|        null|     1.0|2020-01-01 20:44:37|2020-01-08 12:00:38|        33401|              AVILES|   ASTURIAS|             0.0|             1.28|                 0.0|         0.0|              null|   51.73| 51.73|                 0.0|              6.0|                  1.13|     0.0| 1624881414|3683590|      27149|       1|  8.66|         5.59|10.0|\n",
      "|   945909|     1|        5|    456078|            2|     22734.0|     1.0|2020-01-01 21:32:09|2020-01-02 14:01:14|        41500|  Alcalá de Guadaíra|    SEVILLA|             0.0|             2.06|                 0.0|         0.0|              10.0|  105.18| 95.18|                 0.0|              6.0|                   0.0|     0.0| 1624881415|3683744|      49045|       1|   3.2|         2.24|10.0|\n",
      "|   945936|     1|        5|    310340|            2|     22734.0|     1.0|2020-01-01 22:22:52|2020-01-09 09:02:03|        22700|                Jaca|     HUESCA|             0.0|             2.58|                 0.0|         0.0|              10.0|  133.72|123.72|                 0.0|              6.0|                  1.13|     0.0| 1624881415|3683846|     118521|       1| 17.45|        12.12|21.0|\n",
      "|   945939|     2|        5|    607193|            2|        null|     3.0|2020-01-01 22:26:18|2020-01-02 14:01:17|     2550-368|        Lamas-Cercal|    Cadaval|             0.0|             1.29|                 0.0|         0.0|              null|    52.4|  52.4|                 0.0|              6.0|                  3.39|     0.0| 1624881415|3683858|      12921|       1|   4.4|         2.29|23.0|\n",
      "|   945981|     1|        5|    280619|            1|     22734.0|     1.0|2020-01-01 22:57:16|2020-01-02 14:01:22|        01008|             Vitoria|      ÁLAVA|             0.0|             0.37|                 0.0|         0.0|              10.0|  100.49| 90.49|                 0.0|              6.0|                   0.0|     0.0| 1624881416|3683979|      15167|       5| 13.45|         7.22|21.0|\n",
      "|   946035|     1|        5|    400369|            1|        null|     1.0|2020-01-02 00:39:50|2020-01-02 14:01:35|        28020|              MADRID|     MADRID|             0.0|             0.25|                 0.0|         0.0|              null|   49.16| 49.16|                 0.0|              6.0|                  1.13|     0.0| 1624881417|3684211|     120949|       1|  2.89|         1.83|21.0|\n",
      "|   946069|     2|        5|    609758|            4|        null|     3.0|2020-01-02 01:16:56|2020-01-02 14:01:38|     2675-438|            Odivelas|  Odivelas |             3.2|              0.0|                 0.0|        4.95|              null|   23.75|  31.9|                6.74|              6.0|                  4.39|     0.0| 1624881417|3684290|      33823|       1|  2.44|         1.75|13.0|\n",
      "|   946194|     1|        5|    612404|            1|        null|     1.0|2020-01-02 10:50:15|2020-01-07 08:00:55|        28823|             Coslada|     MADRID|             0.0|              0.1|                 0.0|        4.95|              4.95|   46.83| 46.83|                 0.0|              6.0|                  1.13|     0.0| 1624881419|3684702|      31156|       1| 12.52|         7.96|10.0|\n",
      "|   946230|     1|        5|    445898|            2|        null|     1.0|2020-01-02 11:25:42|2020-01-02 15:01:19|        28983|               Parla|     MADRID|             0.0|             1.32|                 0.0|         0.0|              null|   53.86| 53.86|                 0.0|              6.0|                  1.13|     0.0| 1624881419|3684819|      87729|       1|  4.39|         2.63|21.0|\n",
      "|   946397|     1|        5|    257692|            2|        null|     1.0|2020-01-02 14:16:41|2020-01-03 12:01:05|        28220|         Majadahonda|     MADRID|             0.0|              1.3|                 0.0|         0.0|              null|   52.95| 52.95|                 0.0|              6.0|                  1.13|     0.0| 1624881422|3685463|     134647|       1|   5.3|         2.68|21.0|\n",
      "|   946451|     2|        5|    611928|            2|     22735.0|     3.0|2020-01-02 15:48:13|2020-01-03 08:00:14|     1900-014|              Lisboa|     Lisboa|             0.0|             2.44|                 0.0|         0.0|              10.0|   125.9| 115.9|                 0.0|              6.0|                  3.39|     0.0| 1624881423|3685657|     116517|       1|  2.81|         1.54|23.0|\n",
      "|   946451|     2|        5|    611928|            2|     22735.0|     3.0|2020-01-02 15:48:13|2020-01-03 08:00:14|     1900-014|              Lisboa|     Lisboa|             0.0|             2.44|                 0.0|         0.0|              10.0|   125.9| 115.9|                 0.0|              6.0|                  3.39|     0.0| 1624881423|3685661|     108470|       1|  1.19|         0.65|23.0|\n",
      "+---------+------+---------+----------+-------------+------------+--------+-------------------+-------------------+-------------+--------------------+-----------+----------------+-----------------+--------------------+------------+------------------+--------+------+--------------------+-----------------+----------------------+--------+-----------+-------+-----------+--------+------+-------------+----+\n",
      "only showing top 20 rows\n",
      "\n"
     ]
    }
   ],
   "metadata": {}
  },
  {
   "cell_type": "code",
   "execution_count": 70,
   "source": [
    "sparkDF_origen.printSchema()"
   ],
   "outputs": [
    {
     "output_type": "stream",
     "name": "stdout",
     "text": [
      "root\n",
      " |-- pedido_id: long (nullable = true)\n",
      " |-- web_id: long (nullable = true)\n",
      " |-- estado_id: long (nullable = true)\n",
      " |-- cliente_id: long (nullable = true)\n",
      " |-- forma_pago_id: long (nullable = true)\n",
      " |-- descuento_id: double (nullable = true)\n",
      " |-- porte_id: double (nullable = true)\n",
      " |-- solicitud: timestamp (nullable = true)\n",
      " |-- envio: timestamp (nullable = true)\n",
      " |-- codigo_postal: string (nullable = true)\n",
      " |-- poblacion: string (nullable = true)\n",
      " |-- provincia: string (nullable = true)\n",
      " |-- comision_cliente: double (nullable = true)\n",
      " |-- comision_comercio: double (nullable = true)\n",
      " |-- comision_marketplace: double (nullable = true)\n",
      " |-- gastos_envio: double (nullable = true)\n",
      " |-- descuento_aplicado: double (nullable = true)\n",
      " |-- subtotal: double (nullable = true)\n",
      " |-- total: double (nullable = true)\n",
      " |-- coste_portes_cliente: double (nullable = true)\n",
      " |-- coste_portes_real: double (nullable = true)\n",
      " |-- coste_portes_calculado: double (nullable = true)\n",
      " |-- donacion: double (nullable = true)\n",
      " |-- last_update: long (nullable = true)\n",
      " |-- lp_id: long (nullable = true)\n",
      " |-- producto_id: long (nullable = true)\n",
      " |-- unidades: long (nullable = true)\n",
      " |-- precio: double (nullable = true)\n",
      " |-- precio_compra: double (nullable = true)\n",
      " |-- iva: double (nullable = true)\n",
      "\n"
     ]
    }
   ],
   "metadata": {}
  },
  {
   "cell_type": "code",
   "execution_count": 91,
   "source": [
    "    keyCols = [\"lp_id\", \"last_update\"]   \r\n",
    "    replaceDf = sparkDF_origen.alias('a').join(sparkDF_destino.alias('b'), on=keyCols, how='inner').select('a.*')\r\n",
    "    replaceDf.count()\r\n",
    "    "
   ],
   "outputs": [
    {
     "output_type": "execute_result",
     "data": {
      "text/plain": [
       "1965"
      ]
     },
     "metadata": {},
     "execution_count": 91
    }
   ],
   "metadata": {}
  },
  {
   "cell_type": "code",
   "execution_count": 99,
   "source": [
    "  col_names = sparkDF_origen.columns \r\n",
    "  print(col_names)"
   ],
   "outputs": [
    {
     "output_type": "stream",
     "name": "stdout",
     "text": [
      "['pedido_id', 'web_id', 'estado_id', 'cliente_id', 'forma_pago_id', 'descuento_id', 'porte_id', 'solicitud', 'envio', 'codigo_postal', 'poblacion', 'provincia', 'comision_cliente', 'comision_comercio', 'comision_marketplace', 'gastos_envio', 'descuento_aplicado', 'subtotal', 'total', 'coste_portes_cliente', 'coste_portes_real', 'coste_portes_calculado', 'donacion', 'last_update', 'lp_id', 'producto_id', 'unidades', 'precio', 'precio_compra', 'iva']\n"
     ]
    }
   ],
   "metadata": {}
  },
  {
   "cell_type": "code",
   "execution_count": 96,
   "source": [
    "replaceDf.show(10)"
   ],
   "outputs": [
    {
     "output_type": "stream",
     "name": "stdout",
     "text": [
      "+-------+-----------+---------+------+---------+----------+-------------+------------+--------+-------------------+-------------------+-------------+--------------------+---------+----------------+-----------------+--------------------+------------+------------------+--------+-----+--------------------+-----------------+----------------------+--------+-----------+--------+------+-------------+----+\n",
      "|  lp_id|last_update|pedido_id|web_id|estado_id|cliente_id|forma_pago_id|descuento_id|porte_id|          solicitud|              envio|codigo_postal|           poblacion|provincia|comision_cliente|comision_comercio|comision_marketplace|gastos_envio|descuento_aplicado|subtotal|total|coste_portes_cliente|coste_portes_real|coste_portes_calculado|donacion|producto_id|unidades|precio|precio_compra| iva|\n",
      "+-------+-----------+---------+------+---------+----------+-------------+------------+--------+-------------------+-------------------+-------------+--------------------+---------+----------------+-----------------+--------------------+------------+------------------+--------+-----+--------------------+-----------------+----------------------+--------+-----------+--------+------+-------------+----+\n",
      "|3682222| 1624881409|   945450|    25|        5|    611982|           10|        null|     5.0|2020-01-01 01:35:00|2020-01-02 11:01:18|        03202|               Elche| ALICANTE|            null|             null|                1.68|        4.95|              null|     7.5|12.45|                4.09|              0.0|                  1.13|     0.0|      96595|       1|   7.5|         4.25|21.0|\n",
      "|3682502| 1624881410|   945536|     1|        5|    492630|            1|     22586.0|     1.0|2020-01-01 12:13:00|2020-01-02 11:01:27|        46023|            Valencia| VALENCIA|             0.0|             0.32|                 0.0|         0.0|               5.0|   77.89|72.89|                 0.0|              6.0|                   0.0|     0.0|      42846|       3|  4.13|         2.61|10.0|\n",
      "|3682506| 1624881410|   945538|     2|        5|    425290|            1|        null|     3.0|2020-01-01 12:15:29|2020-01-02 11:16:00|     8800-360|         Santa Maria|   Tavira|             0.0|             0.29|                 0.0|         0.0|              null|    63.7| 63.7|                 0.0|              6.0|                  3.39|     0.0|      86976|       1|   3.5|         1.92|13.0|\n",
      "|3682735| 1624881411|   945594|     1|        5|    465334|            3|     22734.0|     1.0|2020-01-01 13:22:04|2020-01-03 13:00:45|        08901|HOSPITALET DE LLO...|BARCELONA|             0.0|              0.0|                 0.0|         0.0|              10.0|  101.49|91.49|                 0.0|              6.0|                  1.13|     0.0|      49710|       2|   3.2|         2.24|10.0|\n",
      "|3682756| 1624881411|   945597|     1|        5|    612045|            1|        null|     2.0|2020-01-01 13:33:32|2020-01-02 12:01:18|        31390|               Olite|  NAVARRA|             0.0|             0.28|                 0.0|        6.95|              null|    53.4|60.35|                5.74|              6.0|                   0.0|     0.0|      81501|       1|  53.4|        35.95|21.0|\n",
      "|3683406| 1624881414|   945807|     2|        5|    610801|            2|     44521.0|     3.0|2020-01-01 19:59:01|2020-01-02 12:01:34|     2400-181|              Leiria|   Leiria|             0.0|             1.19|                 0.0|         0.0|              5.22|   52.15|46.93|                 0.0|              6.0|                  3.39|     0.0|      10910|       1|  14.0|         7.45|23.0|\n",
      "|3683678| 1624881415|   945893|     1|        5|    115367|            2|        null|     1.0|2020-01-01 21:12:34|2020-01-02 14:01:11|        17190|                SALT|   GIRONA|             0.0|             1.47|                 0.0|         0.0|              null|   62.28|62.28|                 0.0|              6.0|                  1.13|     0.0|      15554|       1|  5.64|         3.59|21.0|\n",
      "|3683873| 1624881415|   945941|     1|        5|    324997|            4|     22734.0|     1.0|2020-01-01 22:26:55|2020-01-02 14:01:18|        29018|              malaga|   MÁLAGA|             3.2|              0.0|                 0.0|         0.0|              10.0|  102.34|95.54|                2.64|              6.0|                   0.0|     0.0|      49950|       1| 15.98|        10.09|21.0|\n",
      "|3684074| 1624881416|   946009|     1|        5|    578868|            4|        null|     1.0|2020-01-01 23:45:22|2020-01-02 14:01:31|        21590|        Villablanca |   HUELVA|             3.2|              0.0|                 0.0|         0.0|              null|   52.74|55.94|                2.64|              6.0|                  2.13|     0.0|      10264|       1|  6.12|         3.18|21.0|\n",
      "|3682198| 1624881409|   945444|     1|        5|    386698|            2|     17285.0|     1.0|2020-01-01 01:46:48|2020-01-02 11:01:17|        46138|         Rafelbunyol| VALENCIA|             0.0|             1.19|                 0.0|         0.0|              2.47|    49.4|46.93|                 0.0|              6.0|                  1.13|     0.0|      37790|       1|  2.79|         1.42|21.0|\n",
      "+-------+-----------+---------+------+---------+----------+-------------+------------+--------+-------------------+-------------------+-------------+--------------------+---------+----------------+-----------------+--------------------+------------+------------------+--------+-----+--------------------+-----------------+----------------------+--------+-----------+--------+------+-------------+----+\n",
      "only showing top 10 rows\n",
      "\n"
     ]
    }
   ],
   "metadata": {}
  },
  {
   "cell_type": "code",
   "execution_count": 98,
   "source": [
    "replaceDf.printSchema()"
   ],
   "outputs": [
    {
     "output_type": "stream",
     "name": "stdout",
     "text": [
      "root\n",
      " |-- lp_id: long (nullable = true)\n",
      " |-- last_update: long (nullable = true)\n",
      " |-- pedido_id: long (nullable = true)\n",
      " |-- web_id: long (nullable = true)\n",
      " |-- estado_id: long (nullable = true)\n",
      " |-- cliente_id: long (nullable = true)\n",
      " |-- forma_pago_id: long (nullable = true)\n",
      " |-- descuento_id: double (nullable = true)\n",
      " |-- porte_id: double (nullable = true)\n",
      " |-- solicitud: timestamp (nullable = true)\n",
      " |-- envio: timestamp (nullable = true)\n",
      " |-- codigo_postal: string (nullable = true)\n",
      " |-- poblacion: string (nullable = true)\n",
      " |-- provincia: string (nullable = true)\n",
      " |-- comision_cliente: double (nullable = true)\n",
      " |-- comision_comercio: double (nullable = true)\n",
      " |-- comision_marketplace: double (nullable = true)\n",
      " |-- gastos_envio: double (nullable = true)\n",
      " |-- descuento_aplicado: double (nullable = true)\n",
      " |-- subtotal: double (nullable = true)\n",
      " |-- total: double (nullable = true)\n",
      " |-- coste_portes_cliente: double (nullable = true)\n",
      " |-- coste_portes_real: double (nullable = true)\n",
      " |-- coste_portes_calculado: double (nullable = true)\n",
      " |-- donacion: double (nullable = true)\n",
      " |-- producto_id: long (nullable = true)\n",
      " |-- unidades: long (nullable = true)\n",
      " |-- precio: double (nullable = true)\n",
      " |-- precio_compra: double (nullable = true)\n",
      " |-- iva: double (nullable = true)\n",
      "\n"
     ]
    }
   ],
   "metadata": {}
  },
  {
   "cell_type": "code",
   "execution_count": 100,
   "source": [
    "replaceDff = replaceDf.select(col_names)"
   ],
   "outputs": [],
   "metadata": {}
  },
  {
   "cell_type": "code",
   "execution_count": 106,
   "source": [
    " resultDf = sparkDF_origen.subtract(replaceDff).union(sparkDF_destino)"
   ],
   "outputs": [],
   "metadata": {}
  },
  {
   "cell_type": "code",
   "execution_count": 108,
   "source": [
    "resultDf.count()"
   ],
   "outputs": [
    {
     "output_type": "execute_result",
     "data": {
      "text/plain": [
       "4898"
      ]
     },
     "metadata": {},
     "execution_count": 108
    }
   ],
   "metadata": {}
  },
  {
   "cell_type": "markdown",
   "source": [],
   "metadata": {}
  }
 ],
 "metadata": {
  "orig_nbformat": 4,
  "language_info": {
   "name": "python",
   "version": "3.7.8",
   "mimetype": "text/x-python",
   "codemirror_mode": {
    "name": "ipython",
    "version": 3
   },
   "pygments_lexer": "ipython3",
   "nbconvert_exporter": "python",
   "file_extension": ".py"
  },
  "kernelspec": {
   "name": "python3",
   "display_name": "Python 3.7.8 64-bit"
  },
  "interpreter": {
   "hash": "98cdc219e79c805749ac2575563f3fcede20e0714c985809a631411eaaeb7d26"
  }
 },
 "nbformat": 4,
 "nbformat_minor": 2
}